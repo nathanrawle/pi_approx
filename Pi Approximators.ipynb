{
 "cells": [
  {
   "cell_type": "markdown",
   "metadata": {},
   "source": [
    "# Different code implementations of various algorithms for approximating Pi\n",
    "Following along with the walk-through by Nick Craig-Wood, starting [here](https://www.craig-wood.com/nick/articles/pi-gregorys-series/)"
   ]
  },
  {
   "cell_type": "code",
   "execution_count": 1,
   "metadata": {},
   "outputs": [],
   "source": [
    "import math"
   ]
  },
  {
   "cell_type": "code",
   "execution_count": 2,
   "metadata": {},
   "outputs": [],
   "source": [
    "from decimal import *"
   ]
  },
  {
   "cell_type": "code",
   "execution_count": 3,
   "metadata": {},
   "outputs": [],
   "source": [
    "D = Decimal"
   ]
  },
  {
   "cell_type": "code",
   "execution_count": 4,
   "metadata": {},
   "outputs": [],
   "source": [
    "from time import time"
   ]
  },
  {
   "cell_type": "markdown",
   "metadata": {},
   "source": [
    "## Gregory's Series\n",
    "https://www.craig-wood.com/nick/articles/pi-gregorys-series/"
   ]
  },
  {
   "cell_type": "code",
   "execution_count": 5,
   "metadata": {},
   "outputs": [],
   "source": [
    "def gregory_pi(n):\n",
    "    '''\n",
    "    Implementation of:\n",
    "    \n",
    "    pi/4 = 1 - 1/3 + 1/5 - 1/7 + … - 1/2(n-1)+1 + 1/2n+1\n",
    "    \n",
    "    aka Gregory's series or the Leibniz formula.\n",
    "    \n",
    "    Strength: simple\n",
    "    Weakness: Not very efficient. 10^8 iterations for only 7 dp precision\n",
    "    \n",
    "    Using Decimal() eliminates(?) error introduced by limited precision of float() numbers\n",
    "    '''\n",
    "    \n",
    "    sigma = D(0)\n",
    "    num = D(1)\n",
    "    den = D(1)\n",
    "    \n",
    "    for i in range(n):\n",
    "        sigma += num/den\n",
    "        num = -num\n",
    "        den = den + 2\n",
    "    \n",
    "    return 4*sigma\n",
    "        "
   ]
  },
  {
   "cell_type": "code",
   "execution_count": 6,
   "metadata": {},
   "outputs": [
    {
     "name": "stdout",
     "output_type": "stream",
     "text": [
      "3.141592643589793238462644731 74.68s\n"
     ]
    }
   ],
   "source": [
    "g_start = time()\n",
    "g_approx = gregory_pi(100000000)\n",
    "g_elapsed = time() - g_start\n",
    "\n",
    "print(g_approx, f'{g_elapsed:.2f}s')"
   ]
  },
  {
   "cell_type": "markdown",
   "metadata": {},
   "source": [
    "## Archimedes method\n",
    "https://www.craig-wood.com/nick/articles/pi-archimedes/\n",
    "\n",
    "Starting from a square inscribed within a circle with radius 1 (thus circumference 2\\*Pi), use Pythagoras to iteratively calculate the edge-length of successive bisections. After n iterations, multiply the last length calculated by the half the number of edges in the last inscribed polygon (2^n + 2) to obtain the estimated half-circumference and thus the estimate of Pi. (This makes more sense with the explanation given at the link above)"
   ]
  },
  {
   "cell_type": "code",
   "execution_count": 7,
   "metadata": {},
   "outputs": [],
   "source": [
    "def archimedes_pi(prec):\n",
    "    '''\n",
    "    approximate pi as the perimeter of an n-sided polygon inscribed within a circle.\n",
    "    \n",
    "    For r=1, as n tends to infinity, the perimeter tends to 2*pi.\n",
    "    \n",
    "    Strengths: easy to understand how it works and way faster than Gregory's series\n",
    "    Weakness: Struggles beyond 1 000dp and slow (square root in loop is expensive)\n",
    "    '''\n",
    "    dp = prec+1 #<-- for 'prec' entered to match real d.p. in final result\n",
    "    old_result = None\n",
    "    \n",
    "    # Simple if inefficient way to walk up to the precision desired.\n",
    "    # Assumes that the max number of iterations needed will be < 10*precision desired\n",
    "    for n in range(int(1.67*dp), 10*dp):\n",
    "        # set 'double' precision for calculations\n",
    "        getcontext().prec = 10*dp\n",
    "        \n",
    "        # seed with a square (dn = sqrt(2))\n",
    "        d_n_squared = D(2)\n",
    "        half_polygon = 2\n",
    "        \n",
    "\n",
    "        for i in range(n):\n",
    "            d_n_squared = 2 - 2*(1 - d_n_squared/4).sqrt()\n",
    "            half_polygon *= 2\n",
    "            \n",
    "        result = half_polygon * d_n_squared.sqrt()\n",
    "        \n",
    "        # set single-precision for result\n",
    "        getcontext().prec = dp\n",
    "        result = +result\n",
    "        if result == old_result:\n",
    "            return result\n",
    "            break\n",
    "        old_result = result"
   ]
  },
  {
   "cell_type": "code",
   "execution_count": 8,
   "metadata": {},
   "outputs": [
    {
     "name": "stdout",
     "output_type": "stream",
     "text": [
      "Archimedes:  3.14159265358979323846264338327950288419716939937510582097494459230781640628620899862803482534211706798214808651328230664709384460955058223172535940812848111745028410270193852110555964462294895493038196442881097566593344612847564823378678316527120190914564856692346034861045432664821339360726024914127372458700660631558817488152092096282925409171536436789259036001133053054882046652138414695194151160943305727036575959195309218611738193261179310511854807446237996274956735188575272489122793818301194912983367336244065664308602139494639522473719070217986094370277053921717629317675238467481846766940513200056812714526356082778577134275778960917363717872146844090122495343014654958537105079227968925892354201995611212902196086403441815981362977477130996051870721134999999837297804995105973173281609631859502445945534690830264252230825334468503526193118817101000313783875288658753320838142061717766914730359825349042875546873115956286388235378759375195778185778053217122680661300192787661119590921642019893809525720106548586327886593615338182796823030195203530185296899577362259941389124972177528347913151557485724245415069595082953311686172785588907509838175463746493931925506040092770167113900984882401285836160356370766010471018194295559619894676783744944825537977472684710404753464620804668425906949129331367702898915210475216205696602405803815019351125338243003558764024749647326391419927260426992279678235478163600934172164121992458631503028618297455570674983850549458858692699569092721079750930295532116534498720275596023648066549911988183479775356636980742654252786255181841757467289097777279380008164706001614524919217321721477235014144197356854816136115735255213347574184946843852332390739414333454776241686251898356948556209921922218427255025425688767179049460165346680498862723279178608578438382796797668145410095388378636095068006422512520511739298489608412848862694560424196528502221066118630674427862203919494504712371378696095636437191728746776465757396241389086583264599581339047802759010 Time: 582.85s\n"
     ]
    }
   ],
   "source": [
    "a_start = time()\n",
    "a_approx = archimedes_pi(2000)\n",
    "a_elapsed = time() - a_start\n",
    "print('Archimedes: ', a_approx, f'Time: {a_elapsed:.2f}s')"
   ]
  },
  {
   "cell_type": "markdown",
   "metadata": {},
   "source": [
    "So about 10 minutes for 2000 digits!\n",
    "\n",
    "Double-precision float maths works for a few hundred dp, but for 1 000dp I needed to go to triple-precision.\n",
    "I couldn't quite get 2 000dp even at 10\\*prec (last three decimals should be 009 not 010). Not too bad!\n",
    "\n",
    "(validated against https://www.piday.org/million/)"
   ]
  },
  {
   "cell_type": "markdown",
   "metadata": {},
   "source": [
    "## Machin's Formula\n",
    "https://www.craig-wood.com/nick/articles/pi-machin/\n",
    "\n",
    "Machin's formula uses arctan. Python's built-in math.atan() is too slow. First we define two alternative functions for calculating arctan using fixed-point arithmetic: a standard version and Euler's accelerated version. Then we define Machin's original formula. There are several variations of Machin's formula, the best one being Gauss's, which is also defined below."
   ]
  },
  {
   "cell_type": "code",
   "execution_count": 9,
   "metadata": {},
   "outputs": [],
   "source": [
    "def arctan_1_over(x, one=10**100):\n",
    "    '''\n",
    "    custom function for calculating arctan(1/x) with fixed-point arithmetic\n",
    "    \n",
    "    arctan(1/x) = 1/x - 1/(3x^3) + 1/(5x^5) - 1/(7x^7) + 1/(9x^9) - … (x >= 1)\n",
    "    \n",
    "    '''\n",
    "    # Seeds\n",
    "    power = one // x\n",
    "    total = power\n",
    "    x_squared = x*x\n",
    "    divisor = 1\n",
    "    \n",
    "    while 1:\n",
    "        power = -power // x_squared\n",
    "        divisor += 2\n",
    "        power += divisor // 2 # round the division (reduces the number of erroneous least-significant digits)\n",
    "        delta = power // divisor\n",
    "        if delta == 0:\n",
    "            break\n",
    "        total += delta\n",
    "    return total"
   ]
  },
  {
   "cell_type": "code",
   "execution_count": 10,
   "metadata": {},
   "outputs": [],
   "source": [
    "def euler_atan_1_over(x, one=10**100):\n",
    "    '''\n",
    "    custom function for calculating arctan(1/x) with fixed-point arithmetic\n",
    "    euler's accelerated formula for approximating arctan 1/x\n",
    "    \n",
    "    arctan(1/x) = x/(1+x^2) + (2/3)*(x/(1+x^2)^2 + (2/3)*(4/5)*(x/(1+x^2)^3) + …\n",
    "    '''\n",
    "    \n",
    "    # seeds\n",
    "    x_squared = x*x\n",
    "    x_squared_plus_1 = x_squared + 1\n",
    "    term = (x * one) // x_squared_plus_1\n",
    "    total = term\n",
    "    two_n = 2\n",
    "    \n",
    "    while True:\n",
    "        divisor = (two_n + 1) * x_squared_plus_1\n",
    "        term *= two_n\n",
    "        term += divisor // 2\n",
    "        term = term // divisor\n",
    "        if term == 0:\n",
    "            break\n",
    "        total += term\n",
    "        two_n += 2\n",
    "    return total"
   ]
  },
  {
   "cell_type": "code",
   "execution_count": 11,
   "metadata": {},
   "outputs": [],
   "source": [
    "def str_format_fix(result):\n",
    "    '''\n",
    "    Fixed-point arithmetic returns the digits of pi encoded as an integer with log10(one) digits\n",
    "    Decimal can't handle precision beyond 999 999 999 999 999 999 (10**18 - 1) on a 64-bit system\n",
    "    To get something that looks like a decimal, I've cast the output to a string\n",
    "    '''\n",
    "    result = str(result)\n",
    "    return result[0]+'.'+result[1:]"
   ]
  },
  {
   "cell_type": "code",
   "execution_count": 12,
   "metadata": {},
   "outputs": [],
   "source": [
    "def machin_pi(arctan, one=10**100):\n",
    "    '''\n",
    "    This function calculates pi to log10(one) precision using Machin's Formula\n",
    "    Machin determined the following fast approximation of pi:\n",
    "    \n",
    "    pi/4 = 4*arctan(1/5) - arctan(1/239)\n",
    "    \n",
    "    This depends on an arctan function that works using fixed-point arithmetic.\n",
    "    '''\n",
    "    \n",
    "    result = 4*(4*arctan(5, one) - arctan(239, one))\n",
    "    return str_format_fix(result)"
   ]
  },
  {
   "cell_type": "code",
   "execution_count": 13,
   "metadata": {},
   "outputs": [],
   "source": [
    "def gauss_pi(arctan, one=10**100):\n",
    "    '''\n",
    "    Gauss's apparently slightly better formula for approximating Pi\n",
    "    '''\n",
    "    result = 4*(12*arctan(18, one) + 8*arctan(57, one) - 5*arctan(239, one))\n",
    "    return str_format_fix(result)"
   ]
  },
  {
   "cell_type": "code",
   "execution_count": 14,
   "metadata": {
    "scrolled": false
   },
   "outputs": [
    {
     "name": "stdout",
     "output_type": "stream",
     "text": [
      "Machin: 3.141592653589793238462643383279502884197169399375105820974944592307816406286208998628034825342117067…8575016363411314627530499019135646823804329970695770150789337728658035712790913767420805655493603064\n",
      "Time: 21.36s\n",
      "\n",
      "Machin-Euler: 3.141592653589793238462643383279502884197169399375105820974944592307816406286208998628034825342117067…8575016363411314627530499019135646823804329970695770150789337728658035712790913767420805655493626436\n",
      "Time: 13.34s\n",
      "\n",
      "Gauss: 3.141592653589793238462643383279502884197169399375105820974944592307816406286208998628034825342117067…8575016363411314627530499019135646823804329970695770150789337728658035712790913767420805655493620072\n",
      "Time: 20.50s\n",
      "\n",
      "Gauss-Euler: 3.141592653589793238462643383279502884197169399375105820974944592307816406286208998628034825342117067…8575016363411314627530499019135646823804329970695770150789337728658035712790913767420805655493626468\n",
      "Time: 11.51s\n",
      "\n"
     ]
    }
   ],
   "source": [
    "m_start = time()\n",
    "m_approx = machin_pi(arctan_1_over, 10**100000)\n",
    "m_elapsed = time() - m_start\n",
    "\n",
    "print(f'Machin: {m_approx[0:101]}…{m_approx[-100:]}\\nTime: {m_elapsed:.2f}s\\n')\n",
    "\n",
    "m_e_start = time()\n",
    "m_e_approx = machin_pi(euler_atan_1_over, 10**100000)\n",
    "m_e_elapsed = time() - m_e_start\n",
    "\n",
    "print(f'Machin-Euler: {m_e_approx[0:101]}…{m_e_approx[-100:]}\\nTime: {m_e_elapsed:.2f}s\\n')\n",
    "\n",
    "g_start = time()\n",
    "g_approx = gauss_pi(arctan_1_over, 10**100000)\n",
    "g_elapsed = time() - g_start\n",
    "\n",
    "print(f'Gauss: {g_approx[0:101]}…{g_approx[-100:]}\\nTime: {g_elapsed:.2f}s\\n')\n",
    "\n",
    "g_e_start = time()\n",
    "g_e_approx = gauss_pi(euler_atan_1_over, 10**100000)\n",
    "g_e_elapsed = time() - g_e_start\n",
    "\n",
    "print(f'Gauss-Euler: {g_e_approx[0:101]}…{g_e_approx[-100:]}\\nTime: {g_e_elapsed:.2f}s\\n')"
   ]
  },
  {
   "cell_type": "markdown",
   "metadata": {},
   "source": [
    "For 100 000 digits, using the Euler arctan formula is roughly twice as fast as the basic one on my machine. Gauss makes a modest improvement to the speed of Machin. All can easily calculate 10^5 digits within seconds, and 10^6 in about 30 minutes.\n",
    "\n",
    "The last 5 digits should be …24646. I would be interested in knowing whether anything can be done to eliminate the error! For the values of 'one' I've tried, the Machin-type formulas give roughly log10(log10(one)) erroneous least-significant digits."
   ]
  },
  {
   "cell_type": "markdown",
   "metadata": {},
   "source": [
    "## Chudnovsky Algorithm\n",
    "https://www.craig-wood.com/nick/articles/pi-chudnovsky/\n",
    "\n",
    "This is the heavyweight of Pi approximation algorithms. Starting from a formula by Ramanujan, brothers David and Gregory Chudnovsky derived this fast algorithm in 1988. As of 2 September 2020, this algorithm has been responsible for the last 8 world-record approximations, including 50Tn digits on 29 Jan 2020 [\\[1\\]](https://en.wikipedia.org/wiki/Chronology_of_computation_of_%CF%80#With_electronic_computers_(1949%E2%80%93)).\n",
    "\n",
    "The built-in math.sqrt method won't handle the size of the numbers generated by the Chudnovsky algorithm, so Newton's method of approximation is used to define a square root function that can be used."
   ]
  },
  {
   "cell_type": "code",
   "execution_count": 15,
   "metadata": {},
   "outputs": [],
   "source": [
    "def sqrt(a, one=10**6):\n",
    "    '''\n",
    "    This custom function implements Newton's method applied to refining an initial guess\n",
    "    at the square-root 'x' of a number 'a' (i.e. x^2 = a), where:\n",
    "    \n",
    "    x[n+1] = x[n] - (x^2 - a) / 2x\n",
    "    \n",
    "    uses fixed-point arithmetic\n",
    "    Will break if log(a) << log(one)\n",
    "    '''\n",
    "    \n",
    "    floating_point_precision = 10**16\n",
    "    a_float = float((a * floating_point_precision)//one) / floating_point_precision\n",
    "    x = (int(math.sqrt(a_float) * floating_point_precision)*one) // floating_point_precision\n",
    "    a_one = a * one\n",
    "    \n",
    "    while True:\n",
    "        old_x = x\n",
    "        x = (x + a_one // x) // 2\n",
    "        if x == old_x:\n",
    "            break\n",
    "    \n",
    "    return x"
   ]
  },
  {
   "cell_type": "code",
   "execution_count": 16,
   "metadata": {},
   "outputs": [],
   "source": [
    "def chudnovsky_pi(one=1000000):\n",
    "    \"\"\"\n",
    "    Calculate pi using the Chudnovskys's series using the fixed-point value for 'one' passed in.\n",
    "    A computable form of the algorithm is as follows:\n",
    "    \n",
    "    Pi = (426880*sqrt(10005)) / (13591409a + 545140134b)\n",
    "    \n",
    "    (LET C = 640320)\n",
    "    \n",
    "    a = sum_k((-1^k)*(6k)! / ((3k)!)*((k!)^3)*(C^(3k)))\n",
    "    b = sum_k((-1^k)*(6k)!*k / ((3k)!)*((k!)^3)*(C^(3k)))\n",
    "    \n",
    "    a_k = (-1^k)((6k)!) / ((3k)!)((k!)^3)(C^(3k))\n",
    "    b_k = a_k * k\n",
    "    a_(k+1) = a_k * (6(k+1)-5)(2(k+1)-1)(6(k+1)-1) / ((k+1)^3)(C^3)\n",
    "    \"\"\"\n",
    "    \n",
    "    # initialise values of a_k, a_sum, b_sum for k=0 and set-up k for k=1\n",
    "    k = 1\n",
    "    a_k = one\n",
    "    a_sum = one\n",
    "    b_sum = 0\n",
    "    \n",
    "    # store value of (C^3)/24 in memory for efficient arithmetic in the loop\n",
    "    C = 640320\n",
    "    C3_OVER_24 = C**3 // 24\n",
    "    \n",
    "    # calculate iterative terms of a_k and b_k, and add them to a_sum and b_sum\n",
    "    while 1:\n",
    "        a_k *= -(6*k-5)*(2*k-1)*(6*k-1)\n",
    "        a_k //= k*k*k*C3_OVER_24 #<-- presumably more efficient than k**3\n",
    "        a_sum += a_k\n",
    "        b_sum += k * a_k\n",
    "        k += 1\n",
    "        # when k^3 >> (A*k-B)^3, integer division gives a_k = 0\n",
    "        if a_k == 0:\n",
    "            break\n",
    "    \n",
    "    # perform final non-iterative steps to obtain fixed-point value for Pi\n",
    "    total = 13591409*a_sum + 545140134*b_sum\n",
    "    pi = (426880*sqrt(10005*one, one)*one) // total\n",
    "    return str_format_fix(pi)"
   ]
  },
  {
   "cell_type": "code",
   "execution_count": 17,
   "metadata": {},
   "outputs": [
    {
     "name": "stdout",
     "output_type": "stream",
     "text": [
      "Chudnovsky: 3.141592653589793238462643383279502884197169399375105820974944592307816406286208998628034825342117067…0315614033321272849194418437150696552087542450598956787961303311646283996346460422090106262790187617\n",
      "Time: 603.52\n"
     ]
    }
   ],
   "source": [
    "c_start = time()\n",
    "c_approx = chudnovsky_pi(10**10**6)\n",
    "c_elapsed = time() - c_start\n",
    "\n",
    "print(f'Chudnovsky: {c_approx[:101]}…{c_approx[-100:]}\\nTime: {c_elapsed:.2f}')"
   ]
  },
  {
   "cell_type": "markdown",
   "metadata": {},
   "source": [
    "Ten minutes for 1M digits! …almost: last 12 digits should be 105779458151\n",
    "\n",
    "Further optimisation is possible using something called 'binary splitting' and the gmpy2 module for precision maths. See the [original walkthrough](https://www.craig-wood.com/nick/articles/pi-chudnovsky/) for details. One or the other seems to eliminate the error in the least significant digits.\n",
    "\n",
    "The fully optimised code gives me 1M digits in less than a second, and can provide **100M digits in less than 5 minutes!**\n",
    "\n",
    "*(all timings are for a 1.8GHz Dual-Core Intel Core i5, on a mid-2012 13-inch MacBook Air with 8GB DDR3 memory running macOS Catalina)*"
   ]
  }
 ],
 "metadata": {
  "kernelspec": {
   "display_name": "Python 3",
   "language": "python",
   "name": "python3"
  },
  "language_info": {
   "codemirror_mode": {
    "name": "ipython",
    "version": 3
   },
   "file_extension": ".py",
   "mimetype": "text/x-python",
   "name": "python",
   "nbconvert_exporter": "python",
   "pygments_lexer": "ipython3",
   "version": "3.7.6"
  }
 },
 "nbformat": 4,
 "nbformat_minor": 4
}
